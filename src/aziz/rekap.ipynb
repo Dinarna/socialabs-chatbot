{
 "cells": [
  {
   "cell_type": "code",
   "execution_count": 7,
   "id": "25f15e10",
   "metadata": {},
   "outputs": [],
   "source": [
    "from function_utama import function_transformasi_respons_chatbot_ke_fol, function_pembuatan_counter_example, function_klasifikasi_logical_fallacies, function_perbaikan_respons_chatbot, function_analisis_thematic_progression\n",
    "from functions_non_utama import llm, load_prompt_template, fix_json_if_incomplete\n",
    "\n",
    "def modify_respons(respons):\n",
    "    transformasi_respons_chatbot_ke_fol = function_transformasi_respons_chatbot_ke_fol(respons)\n",
    "    pembuatan_counter_example = function_pembuatan_counter_example(respons, transformasi_respons_chatbot_ke_fol['chain_1']['premis'], transformasi_respons_chatbot_ke_fol['chain_1']['kesimpulan'], transformasi_respons_chatbot_ke_fol['chain_2']['terms_premis'], transformasi_respons_chatbot_ke_fol['chain_2']['terms_kesimpulan'], transformasi_respons_chatbot_ke_fol['chain_3']['atomic_formula'], transformasi_respons_chatbot_ke_fol['chain_4']['fol'])\n",
    "    klasifikasi_logical_fallacy = function_klasifikasi_logical_fallacies(respons, pembuatan_counter_example['interpretasi_counter_example'])\n",
    "    identifikasi_thematic_progression = function_analisis_thematic_progression(transformasi_respons_chatbot_ke_fol['chain_1']['premis'], transformasi_respons_chatbot_ke_fol['chain_1']['kesimpulan'])\n",
    "    modifikasi_respons_chatbot = function_perbaikan_respons_chatbot(respons, pembuatan_counter_example['interpretasi_counter_example'], klasifikasi_logical_fallacy, identifikasi_thematic_progression['identifikasi_masalah_thematic_progression'])\n",
    "    print(\"❇️ Ini hasil Transformasi Respons Chatbot ke FOL\")\n",
    "    print(transformasi_respons_chatbot_ke_fol)\n",
    "    print()\n",
    "    print(\"🗡️ Ini hasil Pembuatan Counterexample\")\n",
    "    print(pembuatan_counter_example)\n",
    "    print()\n",
    "    print(\"🧠 Ini hasil Klasifikasi Logical Fallacy\")\n",
    "    print(klasifikasi_logical_fallacy)\n",
    "    print()\n",
    "    print(\"🧮 Ini Hasil Identifikasi TP\")\n",
    "    print(identifikasi_thematic_progression)\n",
    "    return transformasi_respons_chatbot_ke_fol, pembuatan_counter_example, klasifikasi_logical_fallacy, identifikasi_thematic_progression, modifikasi_respons_chatbot"
   ]
  },
  {
   "cell_type": "code",
   "execution_count": 19,
   "id": "81b6c347",
   "metadata": {},
   "outputs": [
    {
     "name": "stdout",
     "output_type": "stream",
     "text": [
      "8    Informasi mengenai usia pensiun TNI tidak ters...\n",
      "Name: jawaban, dtype: object\n"
     ]
    }
   ],
   "source": [
    "import pandas as pd\n",
    "\n",
    "data = pd.read_excel(\"log_percakapan.xlsx\")\n",
    "jawabans = data['jawaban']\n",
    "print(jawabans[8:9])"
   ]
  },
  {
   "cell_type": "code",
   "execution_count": null,
   "id": "56f43070",
   "metadata": {},
   "outputs": [],
   "source": []
  },
  {
   "cell_type": "code",
   "execution_count": 9,
   "id": "756948ff",
   "metadata": {},
   "outputs": [
    {
     "ename": "KeyError",
     "evalue": "'context'",
     "output_type": "error",
     "traceback": [
      "\u001b[1;31m---------------------------------------------------------------------------\u001b[0m",
      "\u001b[1;31mKeyError\u001b[0m                                  Traceback (most recent call last)",
      "Cell \u001b[1;32mIn[9], line 8\u001b[0m\n\u001b[0;32m      5\u001b[0m i \u001b[38;5;241m=\u001b[39m \u001b[38;5;241m1\u001b[39m\n\u001b[0;32m      6\u001b[0m \u001b[38;5;28;01mfor\u001b[39;00m jawaban \u001b[38;5;129;01min\u001b[39;00m jawabans:\n\u001b[0;32m      7\u001b[0m     \u001b[38;5;66;03m# Proses logic fallacy understanding\u001b[39;00m\n\u001b[1;32m----> 8\u001b[0m     transformasi_respons_chatbot_ke_fol, pembuatan_counter_example, klasifikasi_logical_fallacy, identifikasi_thematic_progression, modifikasi_respons_chatbot \u001b[38;5;241m=\u001b[39m \u001b[43mmodify_respons\u001b[49m\u001b[43m(\u001b[49m\u001b[43mjawaban\u001b[49m\u001b[43m)\u001b[49m\n\u001b[0;32m      9\u001b[0m     \u001b[38;5;66;03m# END\u001b[39;00m\n\u001b[0;32m     11\u001b[0m     fols\u001b[38;5;241m.\u001b[39mappend(transformasi_respons_chatbot_ke_fol[\u001b[38;5;124m'\u001b[39m\u001b[38;5;124mchain_4\u001b[39m\u001b[38;5;124m'\u001b[39m][\u001b[38;5;124m'\u001b[39m\u001b[38;5;124mfol\u001b[39m\u001b[38;5;124m'\u001b[39m])\n",
      "Cell \u001b[1;32mIn[7], line 5\u001b[0m, in \u001b[0;36mmodify_respons\u001b[1;34m(respons)\u001b[0m\n\u001b[0;32m      4\u001b[0m \u001b[38;5;28;01mdef\u001b[39;00m \u001b[38;5;21mmodify_respons\u001b[39m(respons):\n\u001b[1;32m----> 5\u001b[0m     transformasi_respons_chatbot_ke_fol \u001b[38;5;241m=\u001b[39m \u001b[43mfunction_transformasi_respons_chatbot_ke_fol\u001b[49m\u001b[43m(\u001b[49m\u001b[43mrespons\u001b[49m\u001b[43m)\u001b[49m\n\u001b[0;32m      6\u001b[0m     pembuatan_counter_example \u001b[38;5;241m=\u001b[39m function_pembuatan_counter_example(respons, transformasi_respons_chatbot_ke_fol[\u001b[38;5;124m'\u001b[39m\u001b[38;5;124mchain_1\u001b[39m\u001b[38;5;124m'\u001b[39m][\u001b[38;5;124m'\u001b[39m\u001b[38;5;124mpremis\u001b[39m\u001b[38;5;124m'\u001b[39m], transformasi_respons_chatbot_ke_fol[\u001b[38;5;124m'\u001b[39m\u001b[38;5;124mchain_1\u001b[39m\u001b[38;5;124m'\u001b[39m][\u001b[38;5;124m'\u001b[39m\u001b[38;5;124mkesimpulan\u001b[39m\u001b[38;5;124m'\u001b[39m], transformasi_respons_chatbot_ke_fol[\u001b[38;5;124m'\u001b[39m\u001b[38;5;124mchain_2\u001b[39m\u001b[38;5;124m'\u001b[39m][\u001b[38;5;124m'\u001b[39m\u001b[38;5;124mterms_premis\u001b[39m\u001b[38;5;124m'\u001b[39m], transformasi_respons_chatbot_ke_fol[\u001b[38;5;124m'\u001b[39m\u001b[38;5;124mchain_2\u001b[39m\u001b[38;5;124m'\u001b[39m][\u001b[38;5;124m'\u001b[39m\u001b[38;5;124mterms_kesimpulan\u001b[39m\u001b[38;5;124m'\u001b[39m], transformasi_respons_chatbot_ke_fol[\u001b[38;5;124m'\u001b[39m\u001b[38;5;124mchain_3\u001b[39m\u001b[38;5;124m'\u001b[39m][\u001b[38;5;124m'\u001b[39m\u001b[38;5;124matomic_formula\u001b[39m\u001b[38;5;124m'\u001b[39m], transformasi_respons_chatbot_ke_fol[\u001b[38;5;124m'\u001b[39m\u001b[38;5;124mchain_4\u001b[39m\u001b[38;5;124m'\u001b[39m][\u001b[38;5;124m'\u001b[39m\u001b[38;5;124mfol\u001b[39m\u001b[38;5;124m'\u001b[39m])\n\u001b[0;32m      7\u001b[0m     klasifikasi_logical_fallacy \u001b[38;5;241m=\u001b[39m function_klasifikasi_logical_fallacies(respons, pembuatan_counter_example[\u001b[38;5;124m'\u001b[39m\u001b[38;5;124minterpretasi_counter_example\u001b[39m\u001b[38;5;124m'\u001b[39m])\n",
      "File \u001b[1;32md:\\Kuliah\\SKRIPSI\\Sidang\\socialabs-chatbot\\src\\aziz\\function_utama.py:11\u001b[0m, in \u001b[0;36mfunction_transformasi_respons_chatbot_ke_fol\u001b[1;34m(respons)\u001b[0m\n\u001b[0;32m      9\u001b[0m \u001b[38;5;28;01mif\u001b[39;00m chain \u001b[38;5;241m==\u001b[39m \u001b[38;5;124m\"\u001b[39m\u001b[38;5;124mpremis_kesimpulan.json\u001b[39m\u001b[38;5;124m\"\u001b[39m:\n\u001b[0;32m     10\u001b[0m     prompt \u001b[38;5;241m=\u001b[39m load_prompt_template(chain)\n\u001b[1;32m---> 11\u001b[0m     \u001b[43mprompt\u001b[49m\u001b[43m[\u001b[49m\u001b[38;5;124;43m'\u001b[39;49m\u001b[38;5;124;43mcontext\u001b[39;49m\u001b[38;5;124;43m'\u001b[39;49m\u001b[43m]\u001b[49m[\u001b[38;5;124m'\u001b[39m\u001b[38;5;124minput_queries\u001b[39m\u001b[38;5;124m'\u001b[39m][\u001b[38;5;124m'\u001b[39m\u001b[38;5;124mrespons_chatbot\u001b[39m\u001b[38;5;124m'\u001b[39m] \u001b[38;5;241m=\u001b[39m respons\n\u001b[0;32m     12\u001b[0m     prompt \u001b[38;5;241m=\u001b[39m json\u001b[38;5;241m.\u001b[39mdumps(prompt, indent\u001b[38;5;241m=\u001b[39m\u001b[38;5;241m4\u001b[39m)\n\u001b[0;32m     13\u001b[0m     chain_1 \u001b[38;5;241m=\u001b[39m llm(prompt)\n",
      "\u001b[1;31mKeyError\u001b[0m: 'context'"
     ]
    }
   ],
   "source": [
    "fols = []\n",
    "smt = []\n",
    "klasifikasi_logical_fallacies = []\n",
    "modifikasis = []\n",
    "i = 1\n",
    "for jawaban in jawabans:\n",
    "    # Proses logic fallacy understanding\n",
    "    transformasi_respons_chatbot_ke_fol, pembuatan_counter_example, klasifikasi_logical_fallacy, identifikasi_thematic_progression, modifikasi_respons_chatbot = modify_respons(jawaban)\n",
    "    # END\n",
    "\n",
    "    fols.append(transformasi_respons_chatbot_ke_fol['chain_4']['fol'])\n",
    "    smt.append(pembuatan_counter_example['hasil_smt_solver'][:7])\n",
    "    klasifikasi_logical_fallacies.append(klasifikasi_logical_fallacy['jenis'])\n",
    "    modifikasis.append(modifikasi_respons_chatbot['kalimat_keseluruhan'])\n",
    "    \n",
    "    print(i)\n",
    "    i += 1"
   ]
  }
 ],
 "metadata": {
  "kernelspec": {
   "display_name": "skripsi",
   "language": "python",
   "name": "python3"
  },
  "language_info": {
   "codemirror_mode": {
    "name": "ipython",
    "version": 3
   },
   "file_extension": ".py",
   "mimetype": "text/x-python",
   "name": "python",
   "nbconvert_exporter": "python",
   "pygments_lexer": "ipython3",
   "version": "3.10.16"
  }
 },
 "nbformat": 4,
 "nbformat_minor": 5
}
