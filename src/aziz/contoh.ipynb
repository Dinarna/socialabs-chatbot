{
 "cells": [
  {
   "cell_type": "code",
   "execution_count": null,
   "id": "16ad0de3",
   "metadata": {},
   "outputs": [
    {
     "name": "stdout",
     "output_type": "stream",
     "text": [
      "{\n",
      "    \"key\": \"Ini adalah isi variabel ke 2\",\n",
      "    \"another_key\": \"nilai lain ya guys\"\n",
      "}\n"
     ]
    }
   ],
   "source": [
    "import json\n",
    "\n",
    "# Misalkan kamu memiliki variabel\n",
    "variabel = \"Ini adalah isi variabel ke 2\"\n",
    "\n",
    "# Membaca file JSON\n",
    "with open(r'D:\\Kuliah\\SKRIPSI\\Sidang\\socialabs-chatbot\\src\\aziz\\prompts\\data.json', 'r') as file:\n",
    "    data = json.load(file)\n",
    "\n",
    "# Mengubah bagian 'key' dengan nilai dari variabel\n",
    "data['key'] = variabel\n",
    "\n",
    "# Mengonversi kembali data ke dalam string JSON\n",
    "json_string = json.dumps(data, indent=4)    \n",
    "\n",
    "# Mencetak hasil JSON dalam bentuk string\n",
    "print(json_string)"
   ]
  },
  {
   "cell_type": "code",
   "execution_count": 13,
   "id": "57f82349",
   "metadata": {},
   "outputs": [
    {
     "name": "stdout",
     "output_type": "stream",
     "text": [
      "Input Queries: {'premis': ['Ada wanita duduk di taman.', 'Wanita adalah orang.'], 'kesimpulan': 'Orang itu ada di taman'}\n"
     ]
    }
   ],
   "source": [
    "input_queries = {\"premis\": [\"Ada wanita duduk di taman.\",\"Wanita adalah orang.\"],\"kesimpulan\": \"Orang itu ada di taman\"}\n",
    "print(f\"Input Queries: {str(input_queries)}\")"
   ]
  },
  {
   "cell_type": "code",
   "execution_count": 2,
   "id": "bed1e3d4",
   "metadata": {},
   "outputs": [
    {
     "data": {
      "text/plain": [
       "{'instructions': {'task': 'Menganalisis struktur argumentatif dengan fokus pada hubungan kausal antara premis dan kesimpulan',\n",
       "  'persona': 'Pakar linguistik yang terampil dalam memahami struktur argumen dan penalaran kausal.',\n",
       "  'method': '1. TAHAP ANALISIS KAUSAL: Identifikasi hubungan sebab-akibat dalam argumen\\n 2. TAHAP EKSTRAKSI EKSPLISIT: Tentukan premis dan kesimpulan yang dinyatakan secara langsung \\n 3. TAHAP INFERENSI IMPLISIT: Identifikasi asumsi tersembunyi yang BENAR-BENAR DIPERLUKAN untuk menghubungkan premis dengan kesimpulan:\\n- Asumsi ontologis (definisi konsep dasar)\\n- Pengetahuan latar belakang yang esensial\\n- Jembatan logis minimal yang diperlukan\\n- HANYA identifikasi premis implisit yang secara logis WAJIB ada untuk validitas argumen',\n",
       "  'output_format': \"Format JSON dengan field 'premis_eksplisit', 'premis_implisit', dan 'kesimpulan'.\",\n",
       "  'handling_unknown': 'Jika argumen tidak memiliki premis_eksplisit atau premis_implisit atau kesimpulan cukup jawab saja dengan string kosong. Premis implisit boleh kosong jika argumen sudah lengkap tanpa asumsi tambahan.'},\n",
       " 'context': {'relevant_information': 'Premis merupakan bukti bukti (misalnya fakta) yang disajikan untuk mendukung suatu kesimpulan. Premis dapat bersifat implisit pada suatu argumen sehingga diperlukan analisis tambahan untuk menentukan premis yang implisit. Premis bisa ditambahkan di luar argumen, di mana premis ini ditambahkan untuk mendukung ataupun membantah suatu kesimpulan. Kesimpulan adalah sebuah proposisi, suatu ide yang bernilai benar atau salah, yang diajukan oleh seseorang sebagai benar.',\n",
       "  'examples': [{'input_queries': 'I met a tall man who loved to eat cheese, now I believe all tall people like cheese',\n",
       "    'premis_eksplisit': ['A tall man loved to eat cheese.'],\n",
       "    'premis_implisit': [],\n",
       "    'kesimpulan': 'All tall people like cheese.'},\n",
       "   {'input_queries': 'Two dogs are fighting in a field. Consequently, the two dogs are outside.',\n",
       "    'premis_eksplisit': ['Two dogs are fighting in a field.'],\n",
       "    'premis_implisit': ['Field is a place that is outside'],\n",
       "    'kesimpulan': 'The two dogs are outside.'},\n",
       "   {'input_queries': 'A woman sits alone on a park bench in the sun. Hence, a woman is in a park.',\n",
       "    'premis_eksplisit': ['A woman sits alone on a park bench in the sun.'],\n",
       "    'premis_implisit': ['Park bench is located in a park.'],\n",
       "    'kesimpulan': 'A woman is in a park.'},\n",
       "   {'input_queries': 'A woman is standing at a podium. Thus, a person is at a podium.',\n",
       "    'premis_eksplisit': ['A woman is standing at a podium.'],\n",
       "    'premis_implisit': ['A woman is a person.'],\n",
       "    'kesimpulan': 'A person is at a podium'},\n",
       "   {'input_queries': 'Berdasarkan evaluasi cepat dari Pusat Reformasi Hukum Strategis TNI (PRHST) tahun 2024, ditemukan bahwa lebih dari 60% pasal dalam UU TNI tidak lagi sesuai dengan tantangan zaman digital dan geopolitik modern. Selain itu, laporan Komisi Transparansi Militer ASEAN (KTMA) menyebutkanbahwa UU TNI saatiniberisiko melemahkan posisi Indonesia dalam kerja sama militer regional. Maka, meskipunhanyabeberapa pasal yang saat ini menuai kontroversi, hal tersebut cukup menjadi indikator bahwa keseluruhan UU TNI memang sudah usang dan perlu direvisi total. Tidak adagunanya mempertahankan sebagian isi dari produk hukum yang sudah tidak relevan secara keseluruhan.',\n",
       "    'premis_eksplisit': ['Lebih dari 60% pasal dalam UU TNI tidak lagi sesuai dengan tantangan zaman digital dan geopolitik modern.',\n",
       "     'Laporan Komisi Transparansi Militer ASEAN (KTMA) menyebutkan bahwa UU TNI saat ini berisiko melemahkan posisi Indonesia dalam kerja sama militer regional.'],\n",
       "    'premis_implisit': [],\n",
       "    'kesimpulan': 'Keseluruhan UU TNI sudah usang dan perlu direvisi total.'}],\n",
       "  'input_queries': '',\n",
       "  'premis_eksplisit': [],\n",
       "  'premis_implisit': [],\n",
       "  'kesimpulan': ''}}"
      ]
     },
     "execution_count": 2,
     "metadata": {},
     "output_type": "execute_result"
    }
   ],
   "source": [
    "import json\n",
    "\n",
    "def load_prompt_template(filename):\n",
    "    \"\"\"Load prompt template from JSON file\"\"\"\n",
    "    try:\n",
    "        with open(f'prompts/{filename}', 'r', encoding='utf-8') as f:\n",
    "            return json.load(f)\n",
    "    except FileNotFoundError:\n",
    "        return {\"template\": \"\", \"variables\": []}\n",
    "    \n",
    "load_prompt_template(\"premis_kesimpulan.json\")"
   ]
  }
 ],
 "metadata": {
  "kernelspec": {
   "display_name": "skripsi",
   "language": "python",
   "name": "python3"
  },
  "language_info": {
   "codemirror_mode": {
    "name": "ipython",
    "version": 3
   },
   "file_extension": ".py",
   "mimetype": "text/x-python",
   "name": "python",
   "nbconvert_exporter": "python",
   "pygments_lexer": "ipython3",
   "version": "3.10.16"
  }
 },
 "nbformat": 4,
 "nbformat_minor": 5
}
